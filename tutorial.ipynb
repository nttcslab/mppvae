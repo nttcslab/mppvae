{
 "cells": [
  {
   "cell_type": "markdown",
   "metadata": {},
   "source": [
    "# Tutorial "
   ]
  },
  {
   "cell_type": "markdown",
   "metadata": {},
   "source": [
    "This notebook demonstrates how to use our model by applying it to a toy dataset.\n",
    "\n",
    "The input data are divided into three parts:\n",
    "- **spikeTrain**: A list of spikes observed at each probe. Each spike is a 2D array with shape `(n, 1 + n_kappa)`, where `n` is the number of spikes and `n_kappa` is the dimension of the spike feature. The first column represents the spike time, and the remaining columns correspond to the spike features.\n",
    "- **stim**: A covariate array with shape `(num_steps, 1 + n_y)`, where `num_steps` is the number of time steps, and `n_y` is the dimension of the covariate feature. The first column represents the time, and the remaining columns correspond to the covaraite values. \n",
    "- **sep**: An observation time interval $[T_1, T_2]$."
   ]
  },
  {
   "cell_type": "markdown",
   "metadata": {},
   "source": [
    "## 1. Generating toy data"
   ]
  },
  {
   "cell_type": "markdown",
   "metadata": {},
   "source": [
    "Assume that there is $x_t$, which determines the firing rate of the neurons, defined as \n",
    "$$\n",
    "x_t = \\begin{bmatrix} \\cos\\left(\\frac{2 \\pi f t}{T}\\right) \\\\ \\sin\\left(\\frac{2 \\pi f t}{T}\\right) \\end{bmatrix}, \\quad t \\in [0, T],\n",
    "$$  \n",
    "where $f = 5$ and $T = 100$.\n",
    "\n",
    "Consider that there are three probes, and each probe measures the firing activities of five neurons. The joint mark intensity at probe $i$ is defined as  \n",
    "$$\n",
    "\\lambda_{i}(x_t, \\kappa) = \\sum_{j=1}^5 \\exp\\left(\\alpha + \\beta \\mu_{ij}^T x_t\\right) \\, \\mathrm{N} \\left(\\kappa \\mid \\mu_{ij}, \\sigma^2 I\\right), \\quad i = 1, \\dots, 3,\n",
    "$$  \n",
    "where $ \\mu_{ij} $ is the parameter of the $j$-th neuron at probe $i$, generated from a uniform distribution on the unit circle. The parameters $ \\alpha $, $ \\beta $, and $ \\sigma $ are shared across probes.\n",
    "\n",
    "The observed covariate $y_t$ is defined as  \n",
    "$$\n",
    "y_t = x_t.\n",
    "$$\n"
   ]
  },
  {
   "cell_type": "code",
   "execution_count": 1,
   "metadata": {},
   "outputs": [
    {
     "name": "stderr",
     "output_type": "stream",
     "text": [
      "2025-01-03 11:29:52.724938: I tensorflow/core/util/port.cc:110] oneDNN custom operations are on. You may see slightly different numerical results due to floating-point round-off errors from different computation orders. To turn them off, set the environment variable `TF_ENABLE_ONEDNN_OPTS=0`.\n",
      "2025-01-03 11:29:52.747619: I tensorflow/core/platform/cpu_feature_guard.cc:182] This TensorFlow binary is optimized to use available CPU instructions in performance-critical operations.\n",
      "To enable the following instructions: AVX2 AVX_VNNI FMA, in other operations, rebuild TensorFlow with the appropriate compiler flags.\n",
      "Matplotlib created a temporary config/cache directory at /tmp/matplotlib-hj74_cc1 because the default path (/.config/matplotlib) is not a writable directory; it is highly recommended to set the MPLCONFIGDIR environment variable to a writable directory, in particular to speed up the import of Matplotlib and to better support multiprocessing.\n"
     ]
    }
   ],
   "source": [
    "ROOTDIR = '/tf/workspace/MPPVAE' # Change this to the path of the repository\n",
    "import os\n",
    "os.chdir(ROOTDIR)\n",
    "import numpy as np\n",
    "np.set_printoptions(suppress = True)\n",
    "import tensorflow as tf\n",
    "from tqdm import tqdm\n",
    "import time\n",
    "from util import *\n",
    "from model_JVAE import *"
   ]
  },
  {
   "cell_type": "code",
   "execution_count": 2,
   "metadata": {},
   "outputs": [],
   "source": [
    "T = 100\n",
    "dt = 0.01\n",
    "sep = [0, T]\n",
    "num_steps = int(T / dt)"
   ]
  },
  {
   "cell_type": "code",
   "execution_count": 3,
   "metadata": {},
   "outputs": [],
   "source": [
    "ts = np.linspace(0, T, num_steps)\n",
    "ys = np.stack([np.cos(2 * np.pi * 5 * ts / T), np.sin(2 * np.pi * 5 * ts / T)]).T\n",
    "stim = np.concatenate([ts[:, None], ys], axis=-1)"
   ]
  },
  {
   "cell_type": "code",
   "execution_count": 4,
   "metadata": {},
   "outputs": [],
   "source": [
    "n_probes = 3\n",
    "n_neurons = 5\n",
    "mus = np.random.normal(0, 1, (n_probes, n_neurons, 2))\n",
    "mus /= np.linalg.norm(mus, axis=-1, keepdims=True)\n",
    "\n",
    "alpha, beta = 1., 1.\n",
    "intensity_max = np.exp(alpha + beta)\n",
    "ns = np.random.poisson(intensity_max * T, (n_probes, n_neurons))\n",
    "\n",
    "spikeTrain = []\n",
    "\n",
    "for i in range(n_probes):\n",
    "    \n",
    "    spikes_from_probe = []\n",
    "\n",
    "    for j in range(n_neurons):\n",
    "        tis = np.random.uniform(0, T, ns[i, j])\n",
    "        xis = np.stack([np.cos(2 * np.pi * 5 * tis / T), np.sin(2 * np.pi * 5 * tis / T)]).T\n",
    "\n",
    "        accept_ratio = np.exp(alpha + beta * (xis * mus[i, j]).sum(axis=-1)) / intensity_max\n",
    "        mask = np.random.uniform(size=accept_ratio.shape) < accept_ratio\n",
    "\n",
    "        tis = tis[mask]\n",
    "        kappais = np.random.normal(mus[i, j], 0.1, (tis.shape[0], 2))\n",
    "        spikes_from_neuron = np.concatenate([tis[:, None], kappais], axis=-1)\n",
    "        \n",
    "        spikes_from_probe.append(spikes_from_neuron)\n",
    "\n",
    "    spikes_from_probe = np.concatenate(spikes_from_probe, axis=0)\n",
    "    spikes_from_probe = spikes_from_probe[np.argsort(spikes_from_probe[:, 0])]\n",
    "    spikeTrain.append(spikes_from_probe)\n"
   ]
  },
  {
   "cell_type": "code",
   "execution_count": 5,
   "metadata": {},
   "outputs": [
    {
     "data": {
      "text/plain": [
       "[(1702, 3), (1652, 3), (1748, 3)]"
      ]
     },
     "execution_count": 5,
     "metadata": {},
     "output_type": "execute_result"
    }
   ],
   "source": [
    "[spike.shape for spike in spikeTrain]"
   ]
  },
  {
   "cell_type": "code",
   "execution_count": 6,
   "metadata": {},
   "outputs": [
    {
     "data": {
      "text/plain": [
       "(10000, 3)"
      ]
     },
     "execution_count": 6,
     "metadata": {},
     "output_type": "execute_result"
    }
   ],
   "source": [
    "stim.shape"
   ]
  },
  {
   "cell_type": "code",
   "execution_count": 7,
   "metadata": {},
   "outputs": [
    {
     "data": {
      "text/plain": [
       "[0, 100]"
      ]
     },
     "execution_count": 7,
     "metadata": {},
     "output_type": "execute_result"
    }
   ],
   "source": [
    "sep"
   ]
  },
  {
   "cell_type": "markdown",
   "metadata": {},
   "source": [
    "## 2. Training model"
   ]
  },
  {
   "cell_type": "code",
   "execution_count": 8,
   "metadata": {},
   "outputs": [],
   "source": [
    "portion = [8, 1, 1]\n",
    "perm = [0, 1, 2, 3, 4, 5, 6, 7, 8, 9]\n",
    "\n",
    "n_batch = 80\n",
    "n_compile = 4\n",
    "n_jackknife = 2\n",
    "n_repeat = 10\n",
    "learning_rate = 0.001\n",
    "alpha_1, alpha_2 = 0., 2.\n",
    "\n",
    "training_epochs = 200\n",
    "eval_step = 50\n",
    "\n",
    "n_monte = 10\n",
    "n_monte_eval = 100"
   ]
  },
  {
   "cell_type": "code",
   "execution_count": 9,
   "metadata": {},
   "outputs": [],
   "source": [
    "n_params = {'n_site': len(spikeTrain), 'n_y': stim.shape[1] - 1, 'n_kappa': [spike.shape[1] - 1 for spike in spikeTrain]}\n",
    "\n",
    "n_params.update({'n_recog': [50, 50, 50, 50], 'n_recog_g': [50, 50, 50, 50], 'n_gener_x': [50, 50, 50, 50], 'n_gener_kappa': [50, 50, 50, 50],\n",
    "                 'n_recog_y': [50, 50, 50, 50], 'n_gener_y': [50, 50, 50, 50], 'n_recog_kappa': [50, 50, 50, 50],\n",
    "                 'n_z': 10, 'n_x': 10})\n",
    "\n",
    "n_params.update({'n_batch': n_batch})\n",
    "n_params.update({'alpha_1': alpha_1, 'alpha_2': alpha_2})\n",
    "n_params.update({'learning_rate': learning_rate})\n",
    "n_params.update({'n_compile': n_compile})\n",
    "n_params.update({'n_jackknife': n_jackknife})"
   ]
  },
  {
   "cell_type": "code",
   "execution_count": 10,
   "metadata": {},
   "outputs": [
    {
     "name": "stderr",
     "output_type": "stream",
     "text": [
      "2025-01-03 11:29:53.973485: I tensorflow/compiler/xla/stream_executor/cuda/cuda_gpu_executor.cc:996] successful NUMA node read from SysFS had negative value (-1), but there must be at least one NUMA node, so returning NUMA node zero. See more at https://github.com/torvalds/linux/blob/v6.0/Documentation/ABI/testing/sysfs-bus-pci#L344-L355\n",
      "2025-01-03 11:29:53.976378: I tensorflow/compiler/xla/stream_executor/cuda/cuda_gpu_executor.cc:996] successful NUMA node read from SysFS had negative value (-1), but there must be at least one NUMA node, so returning NUMA node zero. See more at https://github.com/torvalds/linux/blob/v6.0/Documentation/ABI/testing/sysfs-bus-pci#L344-L355\n",
      "2025-01-03 11:29:53.976461: I tensorflow/compiler/xla/stream_executor/cuda/cuda_gpu_executor.cc:996] successful NUMA node read from SysFS had negative value (-1), but there must be at least one NUMA node, so returning NUMA node zero. See more at https://github.com/torvalds/linux/blob/v6.0/Documentation/ABI/testing/sysfs-bus-pci#L344-L355\n",
      "2025-01-03 11:29:53.977330: I tensorflow/compiler/xla/stream_executor/cuda/cuda_gpu_executor.cc:996] successful NUMA node read from SysFS had negative value (-1), but there must be at least one NUMA node, so returning NUMA node zero. See more at https://github.com/torvalds/linux/blob/v6.0/Documentation/ABI/testing/sysfs-bus-pci#L344-L355\n",
      "2025-01-03 11:29:53.977395: I tensorflow/compiler/xla/stream_executor/cuda/cuda_gpu_executor.cc:996] successful NUMA node read from SysFS had negative value (-1), but there must be at least one NUMA node, so returning NUMA node zero. See more at https://github.com/torvalds/linux/blob/v6.0/Documentation/ABI/testing/sysfs-bus-pci#L344-L355\n",
      "2025-01-03 11:29:53.977501: I tensorflow/compiler/xla/stream_executor/cuda/cuda_gpu_executor.cc:996] successful NUMA node read from SysFS had negative value (-1), but there must be at least one NUMA node, so returning NUMA node zero. See more at https://github.com/torvalds/linux/blob/v6.0/Documentation/ABI/testing/sysfs-bus-pci#L344-L355\n",
      "2025-01-03 11:29:54.007452: I tensorflow/compiler/xla/stream_executor/cuda/cuda_gpu_executor.cc:996] successful NUMA node read from SysFS had negative value (-1), but there must be at least one NUMA node, so returning NUMA node zero. See more at https://github.com/torvalds/linux/blob/v6.0/Documentation/ABI/testing/sysfs-bus-pci#L344-L355\n",
      "2025-01-03 11:29:54.007528: I tensorflow/compiler/xla/stream_executor/cuda/cuda_gpu_executor.cc:996] successful NUMA node read from SysFS had negative value (-1), but there must be at least one NUMA node, so returning NUMA node zero. See more at https://github.com/torvalds/linux/blob/v6.0/Documentation/ABI/testing/sysfs-bus-pci#L344-L355\n",
      "2025-01-03 11:29:54.007574: I tensorflow/compiler/xla/stream_executor/cuda/cuda_gpu_executor.cc:996] successful NUMA node read from SysFS had negative value (-1), but there must be at least one NUMA node, so returning NUMA node zero. See more at https://github.com/torvalds/linux/blob/v6.0/Documentation/ABI/testing/sysfs-bus-pci#L344-L355\n",
      "2025-01-03 11:29:54.007619: I tensorflow/core/common_runtime/gpu/gpu_device.cc:1635] Created device /job:localhost/replica:0/task:0/device:GPU:0 with 21677 MB memory:  -> device: 0, name: NVIDIA GeForce RTX 3090, pci bus id: 0000:01:00.0, compute capability: 8.6\n"
     ]
    }
   ],
   "source": [
    "spikeTrain, stim, stim_mean, stim_cov = normalize(spikeTrain, stim, sep)\n",
    "\n",
    "dataSet = makeDataSet(spikeTrain, stim)\n",
    "\n",
    "trainDataSet, trainStimSet, trainSepSet, log_scale_train, valDataSet, valStimSet, valSepSet, log_scale_val, testDataSet, testStimSet, testSepSet, log_scale_test = splitDataSet(dataSet, stim, sep, portion, perm)\n",
    "\n",
    "batch_ts_train, batch_inds_train, batch_kappas_train, batch_ttildes_train, batch_ys_train, batch_seps_train = splitDataBatch(trainDataSet, trainStimSet, trainSepSet, n_batch, n_params)\n",
    "batch_ts_val, batch_inds_val, batch_kappas_val, batch_ttildes_val, batch_ys_val, batch_seps_val = splitDataBatch(valDataSet, valStimSet, valSepSet, 1, n_params)\n",
    "batch_ts_test, batch_inds_test, batch_kappas_test, batch_ttildes_test, batch_ys_test, batch_seps_test = splitDataBatch(testDataSet, testStimSet, testSepSet, 1,  n_params)\n",
    "\n",
    "batch_ts_padded_train, batch_kappas_padded_train, batch_masks_train, batch_ttildes_padded_train, batch_ys_padded_train = padDataBatch(batch_ts_train, batch_inds_train, batch_kappas_train, batch_ttildes_train, batch_ys_train)\n",
    "batch_ts_padded_val, batch_kappas_padded_val, batch_masks_val, batch_ttildes_padded_val, batch_ys_padded_val = padDataBatch(batch_ts_val, batch_inds_val, batch_kappas_val, batch_ttildes_val, batch_ys_val)\n",
    "batch_ts_padded_test, batch_kappas_padded_test, batch_masks_test, batch_ttildes_padded_test, batch_ys_padded_test = padDataBatch(batch_ts_test, batch_inds_test, batch_kappas_test, batch_ttildes_test, batch_ys_test)\n",
    "\n",
    "del trainDataSet, trainStimSet, valDataSet, valStimSet, testDataSet, testStimSet, dataSet"
   ]
  },
  {
   "cell_type": "code",
   "execution_count": 11,
   "metadata": {},
   "outputs": [
    {
     "name": "stderr",
     "output_type": "stream",
     "text": [
      "/usr/local/lib/python3.8/dist-packages/keras/initializers/initializers.py:120: UserWarning: The initializer HeUniform is unseeded and being called multiple times, which will return identical values each time (even if the initializer is unseeded). Please update your code to provide a seed to the initializer, or avoid using the same initalizer instance more than once.\n",
      "  warnings.warn(\n",
      "/usr/local/lib/python3.8/dist-packages/keras/initializers/initializers.py:120: UserWarning: The initializer GlorotUniform is unseeded and being called multiple times, which will return identical values each time (even if the initializer is unseeded). Please update your code to provide a seed to the initializer, or avoid using the same initalizer instance more than once.\n",
      "  warnings.warn(\n",
      "2025-01-03 11:29:56.277378: I tensorflow/core/common_runtime/executor.cc:1197] [/device:CPU:0] (DEBUG INFO) Executor start aborting (this does not indicate an error and you can ignore this message): INVALID_ARGUMENT: You must feed a value for placeholder tensor 'scan/while/random_normal/shape/strided_slice' with dtype int32\n",
      "\t [[{{node scan/while/random_normal/shape/strided_slice}}]]\n",
      "2025-01-03 11:29:57.259983: I tensorflow/compiler/xla/service/service.cc:169] XLA service 0xc253250 initialized for platform CUDA (this does not guarantee that XLA will be used). Devices:\n",
      "2025-01-03 11:29:57.260025: I tensorflow/compiler/xla/service/service.cc:177]   StreamExecutor device (0): NVIDIA GeForce RTX 3090, Compute Capability 8.6\n",
      "2025-01-03 11:29:57.275068: I tensorflow/compiler/mlir/tensorflow/utils/dump_mlir_util.cc:269] disabling MLIR crash reproducer, set env var `MLIR_CRASH_REPRODUCER_DIRECTORY` to enable.\n",
      "2025-01-03 11:29:57.329116: I tensorflow/compiler/xla/stream_executor/cuda/cuda_dnn.cc:424] Loaded cuDNN version 8600\n",
      "2025-01-03 11:29:57.655069: I ./tensorflow/compiler/jit/device_compiler.h:180] Compiled cluster using XLA!  This line is logged at most once for the lifetime of the process.\n",
      "2025-01-03 11:29:57.689596: I tensorflow/compiler/xla/service/service.cc:169] XLA service 0x7a338c621c80 initialized for platform Host (this does not guarantee that XLA will be used). Devices:\n",
      "2025-01-03 11:29:57.689618: I tensorflow/compiler/xla/service/service.cc:177]   StreamExecutor device (0): Host, Default Version\n",
      "2025-01-03 11:29:58.267201: I tensorflow/compiler/xla/stream_executor/cuda/cuda_blas.cc:637] TensorFloat-32 will be used for the matrix multiplication. This will only be logged once.\n"
     ]
    }
   ],
   "source": [
    "vae = JVAE(n_params)\n",
    "vae.assign_log_lambda(batch_kappas_padded_train, batch_masks_train, batch_ys_padded_train, n_monte)"
   ]
  },
  {
   "cell_type": "code",
   "execution_count": 12,
   "metadata": {},
   "outputs": [
    {
     "name": "stderr",
     "output_type": "stream",
     "text": [
      "  0%|                                                                                                                                                                                                         | 0/200 [00:00<?, ?it/s]2025-01-03 11:30:07.169632: I tensorflow/compiler/xla/stream_executor/gpu/asm_compiler.cc:328] ptxas warning : Registers are spilled to local memory in function 'fusion_218', 64 bytes spill stores, 64 bytes spill loads\n",
      "\n",
      "2025-01-03 11:30:19.337481: I tensorflow/compiler/xla/stream_executor/gpu/asm_compiler.cc:328] ptxas warning : Registers are spilled to local memory in function 'fusion_218', 64 bytes spill stores, 64 bytes spill loads\n",
      "\n",
      "2025-01-03 11:30:24.356414: I tensorflow/compiler/xla/stream_executor/gpu/asm_compiler.cc:328] ptxas warning : Registers are spilled to local memory in function 'fusion_218', 64 bytes spill stores, 64 bytes spill loads\n",
      "\n",
      "2025-01-03 11:30:29.500526: I tensorflow/compiler/xla/stream_executor/gpu/asm_compiler.cc:328] ptxas warning : Registers are spilled to local memory in function 'fusion_218', 64 bytes spill stores, 64 bytes spill loads\n",
      "\n",
      " 25%|████████████████████████████████████████████████                                                                                                                                                | 50/200 [01:11<02:02,  1.23it/s]"
     ]
    },
    {
     "name": "stdout",
     "output_type": "stream",
     "text": [
      "Epoch: 0050 | lambda_cost: 159.206\n"
     ]
    },
    {
     "name": "stderr",
     "output_type": "stream",
     "text": [
      " 50%|███████████████████████████████████████████████████████████████████████████████████████████████▌                                                                                               | 100/200 [01:52<01:20,  1.24it/s]"
     ]
    },
    {
     "name": "stdout",
     "output_type": "stream",
     "text": [
      "Epoch: 0100 | lambda_cost: -42.754\n"
     ]
    },
    {
     "name": "stderr",
     "output_type": "stream",
     "text": [
      " 75%|███████████████████████████████████████████████████████████████████████████████████████████████████████████████████████████████████████████████▎                                               | 150/200 [02:32<00:40,  1.23it/s]"
     ]
    },
    {
     "name": "stdout",
     "output_type": "stream",
     "text": [
      "Epoch: 0150 | lambda_cost: -81.792\n"
     ]
    },
    {
     "name": "stderr",
     "output_type": "stream",
     "text": [
      "100%|███████████████████████████████████████████████████████████████████████████████████████████████████████████████████████████████████████████████████████████████████████████████████████████████| 200/200 [03:12<00:00,  1.04it/s]"
     ]
    },
    {
     "name": "stdout",
     "output_type": "stream",
     "text": [
      "Epoch: 0200 | lambda_cost: -123.683\n"
     ]
    },
    {
     "name": "stderr",
     "output_type": "stream",
     "text": [
      "\n"
     ]
    }
   ],
   "source": [
    "avg_cost = 0.\n",
    "\n",
    "for epoch in tqdm(range(training_epochs)):\n",
    "\n",
    "    shuffle_ind = tf.random.shuffle(tf.range(n_batch))\n",
    "    batch_kappas_padded_train, batch_masks_train, batch_ys_padded_train = tf.gather(batch_kappas_padded_train, shuffle_ind), tf.gather(batch_masks_train, shuffle_ind), tf.gather(batch_ys_padded_train, shuffle_ind)\n",
    "    avg_cost_epoch = vae.train(batch_kappas_padded_train, batch_masks_train, batch_ys_padded_train, n_monte)\n",
    "    avg_cost += avg_cost_epoch\n",
    "\n",
    "    if (epoch + 1) % eval_step == 0:\n",
    "\n",
    "        avg_cost = avg_cost / eval_step\n",
    "        print('Epoch:', '%04d' % (epoch + 1), '|', 'lambda_cost:', '{:.3f}'.format(avg_cost))\n",
    "        avg_cost = 0."
   ]
  },
  {
   "cell_type": "markdown",
   "metadata": {},
   "source": [
    "## 3. Decoding covariate from spike trains"
   ]
  },
  {
   "cell_type": "code",
   "execution_count": 13,
   "metadata": {},
   "outputs": [
    {
     "name": "stderr",
     "output_type": "stream",
     "text": [
      "2025-01-03 11:33:12.903437: I tensorflow/core/util/cuda_solvers.cc:179] Creating GpuSolver handles for stream 0x81401e0\n"
     ]
    }
   ],
   "source": [
    "sep, kappas, masks, ttilde, y = batch_seps_test[0], batch_kappas_padded_test[0], batch_masks_test[0], batch_ttildes_padded_test[0], batch_ys_padded_test[0]\n",
    "y_smoothed_means, y_smoothed_covs, x_smoothed_means, x_smoothed_covs = vae.decode(kappas, masks, log_scale_train, log_scale_test, n_monte_eval, 5, 100)\n",
    "y, y_smoothed_means, y_smoothed_covs = denormalize(y, y_smoothed_means, y_smoothed_covs, stim_mean, stim_cov)"
   ]
  },
  {
   "cell_type": "markdown",
   "metadata": {},
   "source": [
    "The figure below shows the true and decoded covariates. The blue and orange solid lines represent each coordinate of the true covariate, while the blue and orange bands represent the two-sigma prediction intervals."
   ]
  },
  {
   "cell_type": "code",
   "execution_count": 14,
   "metadata": {},
   "outputs": [
    {
     "data": {
      "text/plain": [
       "Text(0, 0.5, '$y$')"
      ]
     },
     "execution_count": 14,
     "metadata": {},
     "output_type": "execute_result"
    },
    {
     "data": {
      "image/png": "[encoded data removed]",
      "text/plain": [
       "<Figure size 640x480 with 1 Axes>"
      ]
     },
     "metadata": {},
     "output_type": "display_data"
    }
   ],
   "source": [
    "plt.plot(ttilde, y[:, 0, 0])\n",
    "plt.fill_between(ttilde[:, 0], y_smoothed_means[:, 0, 0] - 2 * np.sqrt(y_smoothed_covs[:, 0, 0]), y_smoothed_means[:, 0, 0] + 2 * np.sqrt(y_smoothed_covs[:, 0, 0]), alpha=0.5)\n",
    "\n",
    "plt.plot(ttilde, y[:, 0, 1])\n",
    "plt.fill_between(ttilde[:, 0], y_smoothed_means[:, 0, 1] - 2 * np.sqrt(y_smoothed_covs[:, 1, 1]), y_smoothed_means[:, 0, 1] + 2 * np.sqrt(y_smoothed_covs[:, 1, 1]), alpha=0.5)\n",
    "\n",
    "plt.xlim(sep[0], sep[1])\n",
    "\n",
    "plt.xlabel(r'$t$')\n",
    "plt.ylabel(r'$y$')"
   ]
  }
 ],
 "metadata": {
  "kernelspec": {
   "display_name": "Python 3 (ipykernel)",
   "language": "python",
   "name": "python3"
  },
  "language_info": {
   "codemirror_mode": {
    "name": "ipython",
    "version": 3
   },
   "file_extension": ".py",
   "mimetype": "text/x-python",
   "name": "python",
   "nbconvert_exporter": "python",
   "pygments_lexer": "ipython3",
   "version": "3.8.10"
  }
 },
 "nbformat": 4,
 "nbformat_minor": 4
}
